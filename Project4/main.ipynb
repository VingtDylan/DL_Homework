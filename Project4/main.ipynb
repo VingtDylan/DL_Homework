{
 "cells": [
  {
   "cell_type": "markdown",
   "metadata": {
    "id": "Wfk0Nua0m5gB"
   },
   "source": [
    "挂载"
   ]
  },
  {
   "cell_type": "code",
   "execution_count": null,
   "metadata": {
    "colab": {
     "base_uri": "https://localhost:8080/"
    },
    "executionInfo": {
     "elapsed": 985,
     "status": "ok",
     "timestamp": 1607843492251,
     "user": {
      "displayName": "陈勇虎",
      "photoUrl": "",
      "userId": "17771256608761574696"
     },
     "user_tz": -480
    },
    "id": "dFCdIhebm7lF",
    "outputId": "16cb0dd5-f111-4269-8027-45b8577a94ca"
   },
   "outputs": [],
   "source": [
    "from google.colab import drive\n",
    " \n",
    "drive.mount('/content/drive')"
   ]
  },
  {
   "cell_type": "markdown",
   "metadata": {
    "id": "vLAb2644m984"
   },
   "source": [
    "切换位置"
   ]
  },
  {
   "cell_type": "code",
   "execution_count": null,
   "metadata": {
    "colab": {
     "base_uri": "https://localhost:8080/"
    },
    "executionInfo": {
     "elapsed": 1386,
     "status": "ok",
     "timestamp": 1607843492658,
     "user": {
      "displayName": "陈勇虎",
      "photoUrl": "",
      "userId": "17771256608761574696"
     },
     "user_tz": -480
    },
    "id": "USOiHLNonAfx",
    "outputId": "b4849575-c507-439b-d3af-b805aaa13ce5"
   },
   "outputs": [],
   "source": [
    "%cd drive/MyDrive/Project4\n",
    "# !ls\n",
    "import sys\n",
    "sys.path.append('/content/drive/MyDrive/Project4')"
   ]
  },
  {
   "cell_type": "markdown",
   "metadata": {
    "id": "MwRsgVEil6zQ"
   },
   "source": [
    "import各种类"
   ]
  },
  {
   "cell_type": "code",
   "execution_count": null,
   "metadata": {
    "colab": {
     "base_uri": "https://localhost:8080/"
    },
    "executionInfo": {
     "elapsed": 1383,
     "status": "ok",
     "timestamp": 1607843492659,
     "user": {
      "displayName": "陈勇虎",
      "photoUrl": "",
      "userId": "17771256608761574696"
     },
     "user_tz": -480
    },
    "id": "noEgoBmilinb",
    "outputId": "aafa33b5-5c06-473d-b2a1-241dfca9cc33"
   },
   "outputs": [],
   "source": [
    "import random\n",
    "import os\n",
    "import argparse\n",
    "import math\n",
    "\n",
    "import numpy as np\n",
    "import torch\n",
    "import torch.nn as nn\n",
    "import torch.nn.functional as F\n",
    "from torch.autograd import Variable\n",
    "from torch.utils.data import Dataset, DataLoader\n",
    "import nltk\n",
    "nltk.download(\"all-nltk\")\n",
    "from nltk import word_tokenize\n",
    "from nltk.translate.bleu_score import sentence_bleu\n",
    "from collections import Counter\n",
    "\n",
    "from lib.DataLoader import *\n",
    "from lib.criterion import *\n",
    "from lib.loss import *\n",
    "from lib.optimizer import *\n",
    "from lib.parser import *\n",
    "from lib.utils import *\n",
    "from lib.Mytransformer import *\n",
    "from evaluate import *"
   ]
  },
  {
   "cell_type": "code",
   "execution_count": null,
   "metadata": {
    "executionInfo": {
     "elapsed": 1379,
     "status": "ok",
     "timestamp": 1607843492659,
     "user": {
      "displayName": "陈勇虎",
      "photoUrl": "",
      "userId": "17771256608761574696"
     },
     "user_tz": -480
    },
    "id": "ksk0THZgmvhN"
   },
   "outputs": [],
   "source": [
    "import copy\n",
    "import warnings\n",
    "warnings.filterwarnings(\"ignore\")"
   ]
  },
  {
   "cell_type": "markdown",
   "metadata": {
    "id": "lUSkEG97mzuB"
   },
   "source": [
    "训练函数"
   ]
  },
  {
   "cell_type": "code",
   "execution_count": null,
   "metadata": {
    "executionInfo": {
     "elapsed": 1377,
     "status": "ok",
     "timestamp": 1607843492660,
     "user": {
      "displayName": "陈勇虎",
      "photoUrl": "",
      "userId": "17771256608761574696"
     },
     "user_tz": -480
    },
    "id": "pAcuoJZom2Mt"
   },
   "outputs": [],
   "source": [
    "\n",
    "def make_model(src_vocab, lab_vocab, N = 6, d_model = 512, d_ff = 2048, h = 8, dropout = 0.1):\n",
    "  c = copy.deepcopy\n",
    "  multihead = MultiHeadedAttention(h, d_model).to(args.device)\n",
    "  feedforward = FeedForward(d_model, d_ff, dropout).to(args.device)\n",
    "  position = PositionalEncoding(d_model, dropout).to(args.device)\n",
    "  model = Transformer(\n",
    "    Encoder(EncoderLayer(d_model, c(multihead), c(feedforward), dropout).to(args.device), N).to(args.device),\n",
    "    Decoder(DecoderLayer(d_model, c(multihead), c(multihead), c(feedforward), dropout).to(args.device), N).to(args.device),\n",
    "    nn.Sequential(Embeddings(d_model, src_vocab).to(args.device), c(position)),\n",
    "    nn.Sequential(Embeddings(d_model, lab_vocab).to(args.device), c(position)),\n",
    "    Generator(d_model, lab_vocab)).to(args.device)\n",
    "  \n",
    "  for p in model.parameters():\n",
    "    if p.dim() > 1:\n",
    "      nn.init.xavier_uniform_(p)\n",
    "  return model.to(args.device)\n",
    "\n",
    "def run_epoch(data, model, loss_compute, epoch):\n",
    "  total_tokens = 0\n",
    "  total_loss = 0\n",
    "  for i , batch in enumerate(data):\n",
    "    out = model(batch.src, batch.lab, batch.src_mask, batch.lab_mask)\n",
    "    loss = loss_compute(out, batch.lab_y, batch.ntokens)\n",
    "    total_loss += loss\n",
    "    total_tokens += batch.ntokens\n",
    "    if i % 100 == 1:\n",
    "      print(\"epoch %d \\t batch: %d \\t Loss: %f \" % (epoch, i - 1, loss / batch.ntokens))\n",
    "  return total_loss / total_tokens\n",
    "\n",
    "def train(data, model, criterion, optimizer):\n",
    "  for epoch in range(1, 1 + args.epochs):\n",
    "    print('------- Train epoch : ' +  str(epoch) + \"--------\")\n",
    "    model.train()\n",
    "    run_epoch(data.train_data, model, SimpleLossCompute(model.generator, criterion, optimizer), epoch)\n",
    "    torch.save(model.state_dict(), \"model.pkl\")\n",
    "    model.eval()\n",
    "    loss = run_epoch(data.valid_data, model, SimpleLossCompute(model.generator, criterion, None), epoch)\n",
    "    print('Evaluate loss: %f' % loss)"
   ]
  },
  {
   "cell_type": "markdown",
   "metadata": {
    "id": "LOd418ZXnCem"
   },
   "source": [
    "读取数据个数设置"
   ]
  },
  {
   "cell_type": "code",
   "execution_count": null,
   "metadata": {
    "executionInfo": {
     "elapsed": 1375,
     "status": "ok",
     "timestamp": 1607843492661,
     "user": {
      "displayName": "陈勇虎",
      "photoUrl": "",
      "userId": "17771256608761574696"
     },
     "user_tz": -480
    },
    "id": "1AVr3fNhnFHO"
   },
   "outputs": [],
   "source": [
    "PAD, BOS, EOS, UNK = 'PAD', 'BOS', 'EOS', 'UNK'\n",
    "g_max_seq1 = float('inf')\n",
    "g_max_seq2 = float('inf')\n",
    "g_max_seq3 = float('inf')"
   ]
  },
  {
   "cell_type": "markdown",
   "metadata": {
    "id": "8RwRifTOnIfM"
   },
   "source": [
    "参数设置"
   ]
  },
  {
   "cell_type": "code",
   "execution_count": null,
   "metadata": {
    "executionInfo": {
     "elapsed": 1372,
     "status": "ok",
     "timestamp": 1607843492661,
     "user": {
      "displayName": "陈勇虎",
      "photoUrl": "",
      "userId": "17771256608761574696"
     },
     "user_tz": -480
    },
    "id": "mZoTmC08nJ0y"
   },
   "outputs": [],
   "source": [
    "args.layers = 2\n",
    "args.batch_size = 128\n",
    "args.d_model = 256\n",
    "args.d_ff = 1024\n",
    "args.h_num = 8\n",
    "args.dropout = 0.1\n",
    "args.epochs = 20"
   ]
  },
  {
   "cell_type": "markdown",
   "metadata": {
    "id": "ggm-aOIBnREu"
   },
   "source": [
    "加载数据"
   ]
  },
  {
   "cell_type": "code",
   "execution_count": null,
   "metadata": {
    "colab": {
     "base_uri": "https://localhost:8080/"
    },
    "executionInfo": {
     "elapsed": 435116,
     "status": "ok",
     "timestamp": 1607843926409,
     "user": {
      "displayName": "陈勇虎",
      "photoUrl": "",
      "userId": "17771256608761574696"
     },
     "user_tz": -480
    },
    "id": "tO1F6BBHnSJS",
    "outputId": "9e0e65eb-fa52-4c1d-925a-fa95515bf550"
   },
   "outputs": [],
   "source": [
    "g_max_seq1 = 1500000 \n",
    "g_max_seq2 = 150000 \n",
    "Data = DataHandler()\n",
    "Data.prepare_train(g_max_seq1, g_max_seq2)\n",
    "args.src_vocab = Data.en_total_words\n",
    "args.lab_vocab = Data.cn_total_words\n",
    "print(args.src_vocab)\n",
    "print(args.lab_vocab)"
   ]
  },
  {
   "cell_type": "markdown",
   "metadata": {
    "id": "Ps9MH_hvnzlF"
   },
   "source": [
    "模型创建"
   ]
  },
  {
   "cell_type": "code",
   "execution_count": null,
   "metadata": {
    "executionInfo": {
     "elapsed": 435716,
     "status": "ok",
     "timestamp": 1607843927013,
     "user": {
      "displayName": "陈勇虎",
      "photoUrl": "",
      "userId": "17771256608761574696"
     },
     "user_tz": -480
    },
    "id": "rtbxjOMFn33j"
   },
   "outputs": [],
   "source": [
    "# args.src_vocab = 131074 # 794 \n",
    "# args.lab_vocab = 7582 # 830\n",
    "model = make_model(args.src_vocab, args.lab_vocab, args.layers, args.d_model, args.d_ff, args.h_num, args.dropout)\n",
    "# print(model)"
   ]
  },
  {
   "cell_type": "markdown",
   "metadata": {
    "id": "KlZNOfvkn6Co"
   },
   "source": [
    "模型训练和验证"
   ]
  },
  {
   "cell_type": "code",
   "execution_count": null,
   "metadata": {
    "colab": {
     "base_uri": "https://localhost:8080/"
    },
    "id": "0LdhAztUn8hg",
    "outputId": "81e00f67-ebd6-4aae-d98b-1899df015f30",
    "scrolled": true
   },
   "outputs": [],
   "source": [
    "print(\">>>>>>> start train <<<<<<<\")\n",
    "criterion = LabelSmoothing(args.lab_vocab, padding_idx = 0, smoothing = 0.0)\n",
    "optimizer = NoamOpt(args.d_model, 1, 2000, torch.optim.Adam(model.parameters(), lr = 0, betas = (0.9, 0.98), eps = 1e-9))\n",
    "train(Data, model, criterion, optimizer)\n",
    "print(\"<<<<<<< finished train >>>>>>>\")\n",
    "torch.save(model.state_dict(), \"model.pkl\")"
   ]
  },
  {
   "cell_type": "markdown",
   "metadata": {
    "id": "YjivAearoFOf"
   },
   "source": [
    "测试模型"
   ]
  },
  {
   "cell_type": "code",
   "execution_count": null,
   "metadata": {
    "id": "jNNFz9-9oGLg"
   },
   "outputs": [],
   "source": [
    "g_max_seq3 = 100 # float(\"inf\")\n",
    "Data.prepare_test(g_max_seq3)\n",
    "model.load_state_dict(torch.load(\"model.pkl\"))\n",
    "evaluate(Data, model)"
   ]
  }
 ],
 "metadata": {
  "accelerator": "GPU",
  "colab": {
   "authorship_tag": "ABX9TyOCZqJ+Wqv7dyTJUPaENHmM",
   "collapsed_sections": [],
   "name": "main.ipynb",
   "provenance": []
  },
  "kernelspec": {
   "display_name": "Python 3",
   "language": "python",
   "name": "python3"
  },
  "language_info": {
   "codemirror_mode": {
    "name": "ipython",
    "version": 3
   },
   "file_extension": ".py",
   "mimetype": "text/x-python",
   "name": "python",
   "nbconvert_exporter": "python",
   "pygments_lexer": "ipython3",
   "version": "3.7.6"
  }
 },
 "nbformat": 4,
 "nbformat_minor": 1
}
